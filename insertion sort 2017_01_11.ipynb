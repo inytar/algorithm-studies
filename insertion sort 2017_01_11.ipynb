{
 "cells": [
  {
   "cell_type": "code",
   "execution_count": 2,
   "metadata": {
    "collapsed": true
   },
   "outputs": [],
   "source": [
    "def insertion_sort(iterable, key=None):\n",
    "    if key is None:\n",
    "        import operator\n",
    "        key = operator.lt\n",
    "    iterable = list(iterable)\n",
    "    for i in range(len(iterable)):\n",
    "        val = iterable[i]\n",
    "        for j in reversed(range(i)):\n",
    "            if key(val,iterable[j]):\n",
    "                iterable[j + 1] = iterable[j]\n",
    "            else:\n",
    "                iterable[j + 1] = val\n",
    "                break\n",
    "        else:\n",
    "            iterable[0] = val\n",
    "    return iterable"
   ]
  },
  {
   "cell_type": "code",
   "execution_count": 3,
   "metadata": {
    "collapsed": false
   },
   "outputs": [
    {
     "name": "stdout",
     "output_type": "stream",
     "text": [
      "10\n",
      "random\n",
      "100000 loops, best of 3: 12.3 µs per loop\n",
      "sorted\n",
      "100000 loops, best of 3: 8.41 µs per loop\n",
      "110\n",
      "random\n",
      "1000 loops, best of 3: 584 µs per loop\n",
      "sorted\n",
      "10000 loops, best of 3: 78.3 µs per loop\n",
      "210\n",
      "random\n",
      "100 loops, best of 3: 1.93 ms per loop\n",
      "sorted\n",
      "10000 loops, best of 3: 149 µs per loop\n",
      "310\n",
      "random\n",
      "100 loops, best of 3: 4.47 ms per loop\n",
      "sorted\n",
      "1000 loops, best of 3: 233 µs per loop\n",
      "410\n",
      "random\n",
      "100 loops, best of 3: 7.87 ms per loop\n",
      "sorted\n",
      "1000 loops, best of 3: 338 µs per loop\n",
      "510\n",
      "random\n",
      "100 loops, best of 3: 12.1 ms per loop\n",
      "sorted\n",
      "1000 loops, best of 3: 387 µs per loop\n",
      "610\n",
      "random\n",
      "100 loops, best of 3: 18.3 ms per loop\n",
      "sorted\n",
      "1000 loops, best of 3: 486 µs per loop\n",
      "710\n",
      "random\n",
      "10 loops, best of 3: 24.9 ms per loop\n",
      "sorted\n",
      "1000 loops, best of 3: 552 µs per loop\n",
      "810\n",
      "random\n",
      "10 loops, best of 3: 31.9 ms per loop\n",
      "sorted\n",
      "1000 loops, best of 3: 625 µs per loop\n",
      "910\n",
      "random\n",
      "10 loops, best of 3: 39.2 ms per loop\n",
      "sorted\n",
      "1000 loops, best of 3: 733 µs per loop\n",
      "1010\n",
      "random\n",
      "10 loops, best of 3: 48.5 ms per loop\n",
      "sorted\n",
      "1000 loops, best of 3: 828 µs per loop\n"
     ]
    }
   ],
   "source": [
    "## Benchmark\n",
    "\n",
    "sortfunction = lambda l: insertion_sort(l)\n",
    "\n",
    "import random\n",
    "\n",
    "for length in range(10, 1100, 100):\n",
    "    print(length)\n",
    "    print('random')\n",
    "    l = [random.randrange(length) for _ in range(length)]\n",
    "    %timeit sortfunction(l)\n",
    "    print('sorted')\n",
    "    l = [v for v in range(length)]\n",
    "    %timeit sortfunction(l)"
   ]
  },
  {
   "cell_type": "code",
   "execution_count": 93,
   "metadata": {
    "collapsed": false
   },
   "outputs": [
    {
     "data": {
      "text/plain": [
       "[1, 5, 7.0, 7, 7.0, 8, 9, 10, 12, 18, 20]"
      ]
     },
     "execution_count": 93,
     "metadata": {},
     "output_type": "execute_result"
    }
   ],
   "source": [
    "insertion_sort([10,8, 7.0, 9, 12, 20, 1, 5, 7, 18, 7.0])"
   ]
  }
 ],
 "metadata": {
  "kernelspec": {
   "display_name": "Python 3",
   "language": "python",
   "name": "python3"
  },
  "language_info": {
   "codemirror_mode": {
    "name": "ipython",
    "version": 3
   },
   "file_extension": ".py",
   "mimetype": "text/x-python",
   "name": "python",
   "nbconvert_exporter": "python",
   "pygments_lexer": "ipython3",
   "version": "3.5.2"
  }
 },
 "nbformat": 4,
 "nbformat_minor": 2
}
