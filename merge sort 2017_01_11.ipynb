{
 "cells": [
  {
   "cell_type": "code",
   "execution_count": 1,
   "metadata": {
    "collapsed": true
   },
   "outputs": [],
   "source": [
    "# Top down merge sort\n",
    "def merge_sort(iterable, key=None):\n",
    "    if key is None:\n",
    "        import operator\n",
    "        # Less than or equal so the sort is stable.\n",
    "        key = operator.le\n",
    "    iterable = list(iterable)\n",
    "    length = len(iterable)\n",
    "    if length <= 1:\n",
    "        return iterable\n",
    "    left = merge_sort(iterable[:length // 2], key)\n",
    "    right = merge_sort(iterable[length // 2:], key)\n",
    "    return list(merge(left, right, key))\n",
    "\n",
    "def merge(left, right, key):\n",
    "    merged = []\n",
    "    #print(left, right)\n",
    "    while True:\n",
    "        try:\n",
    "            l = left[0]\n",
    "        except IndexError:\n",
    "            merged.extend(right)\n",
    "            break\n",
    "        try:\n",
    "            r = right[0]\n",
    "        except IndexError:\n",
    "            merged.extend(left)\n",
    "            break\n",
    "        if key(l, r):\n",
    "            merged.append(left.pop(0))\n",
    "        else:\n",
    "            merged.append(right.pop(0))\n",
    "    #print(merged)\n",
    "    return merged"
   ]
  },
  {
   "cell_type": "code",
   "execution_count": 3,
   "metadata": {
    "collapsed": false
   },
   "outputs": [
    {
     "name": "stdout",
     "output_type": "stream",
     "text": [
      "10\n",
      "random\n",
      "10000 loops, best of 3: 32.7 µs per loop\n",
      "sorted\n",
      "10000 loops, best of 3: 28.9 µs per loop\n",
      "110\n",
      "random\n",
      "1000 loops, best of 3: 548 µs per loop\n",
      "sorted\n",
      "1000 loops, best of 3: 406 µs per loop\n",
      "210\n",
      "random\n",
      "1000 loops, best of 3: 1.07 ms per loop\n",
      "sorted\n",
      "1000 loops, best of 3: 819 µs per loop\n",
      "310\n",
      "random\n",
      "1000 loops, best of 3: 1.68 ms per loop\n",
      "sorted\n",
      "1000 loops, best of 3: 1.25 ms per loop\n",
      "410\n",
      "random\n",
      "100 loops, best of 3: 2.3 ms per loop\n",
      "sorted\n",
      "1000 loops, best of 3: 1.69 ms per loop\n",
      "510\n",
      "random\n",
      "100 loops, best of 3: 2.9 ms per loop\n",
      "sorted\n",
      "100 loops, best of 3: 2.17 ms per loop\n",
      "610\n",
      "random\n",
      "100 loops, best of 3: 3.56 ms per loop\n",
      "sorted\n",
      "100 loops, best of 3: 2.58 ms per loop\n",
      "710\n",
      "random\n",
      "100 loops, best of 3: 4.21 ms per loop\n",
      "sorted\n",
      "100 loops, best of 3: 3.05 ms per loop\n",
      "810\n",
      "random\n",
      "100 loops, best of 3: 4.96 ms per loop\n",
      "sorted\n",
      "100 loops, best of 3: 3.53 ms per loop\n",
      "910\n",
      "random\n",
      "100 loops, best of 3: 5.55 ms per loop\n",
      "sorted\n",
      "100 loops, best of 3: 4 ms per loop\n",
      "1010\n",
      "random\n",
      "100 loops, best of 3: 6.22 ms per loop\n",
      "sorted\n",
      "100 loops, best of 3: 4.52 ms per loop\n"
     ]
    }
   ],
   "source": [
    "## Benchmark\n",
    "\n",
    "sortfunction = lambda l: merge_sort(l)\n",
    "\n",
    "import random\n",
    "\n",
    "for length in range(10, 1100, 100):\n",
    "    print(length)\n",
    "    print('random')\n",
    "    l = [random.randrange(length) for _ in range(length)]\n",
    "    %timeit sortfunction(l)\n",
    "    print('sorted')\n",
    "    l = [v for v in range(length)]\n",
    "    %timeit sortfunction(l)"
   ]
  },
  {
   "cell_type": "code",
   "execution_count": 4,
   "metadata": {
    "collapsed": false
   },
   "outputs": [
    {
     "data": {
      "text/plain": [
       "[1.0, 1, 1.0, 2, 3, 5, 6, 7, 8, 10, 12, 14]"
      ]
     },
     "execution_count": 4,
     "metadata": {},
     "output_type": "execute_result"
    }
   ],
   "source": [
    "merge_sort([1.0, 1, 10, 12, 14, 1.0, 3, 2, 7, 8, 5, 6])"
   ]
  },
  {
   "cell_type": "code",
   "execution_count": 4,
   "metadata": {
    "collapsed": false
   },
   "outputs": [
    {
     "data": {
      "text/plain": [
       "'cdefg'"
      ]
     },
     "execution_count": 4,
     "metadata": {},
     "output_type": "execute_result"
    }
   ],
   "source": [
    "'abcdefg'[:2]\n",
    "'abcdefg'[2:]"
   ]
  }
 ],
 "metadata": {
  "kernelspec": {
   "display_name": "Python 3",
   "language": "python",
   "name": "python3"
  },
  "language_info": {
   "codemirror_mode": {
    "name": "ipython",
    "version": 3
   },
   "file_extension": ".py",
   "mimetype": "text/x-python",
   "name": "python",
   "nbconvert_exporter": "python",
   "pygments_lexer": "ipython3",
   "version": "3.5.2"
  }
 },
 "nbformat": 4,
 "nbformat_minor": 2
}
