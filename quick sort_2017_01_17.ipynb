{
 "cells": [
  {
   "cell_type": "code",
   "execution_count": null,
   "metadata": {
    "collapsed": true
   },
   "outputs": [],
   "source": [
    "## NOT stable!"
   ]
  },
  {
   "cell_type": "code",
   "execution_count": 112,
   "metadata": {
    "collapsed": false,
    "scrolled": false
   },
   "outputs": [
    {
     "name": "stdout",
     "output_type": "stream",
     "text": [
      "910\n",
      "100 loops, best of 3: 3.6 ms per loop\n",
      "920\n",
      "100 loops, best of 3: 3.64 ms per loop\n",
      "930\n",
      "100 loops, best of 3: 3.73 ms per loop\n",
      "940\n",
      "100 loops, best of 3: 4.03 ms per loop\n",
      "950\n",
      "100 loops, best of 3: 3.79 ms per loop\n",
      "960\n",
      "100 loops, best of 3: 3.81 ms per loop\n",
      "970\n",
      "100 loops, best of 3: 3.97 ms per loop\n",
      "980\n",
      "100 loops, best of 3: 3.94 ms per loop\n",
      "990\n",
      "100 loops, best of 3: 3.94 ms per loop\n",
      "1000\n",
      "100 loops, best of 3: 4.04 ms per loop\n",
      "1010\n",
      "100 loops, best of 3: 4.16 ms per loop\n",
      "1020\n",
      "100 loops, best of 3: 4.17 ms per loop\n",
      "1030\n",
      "100 loops, best of 3: 4.14 ms per loop\n",
      "1040\n",
      "100 loops, best of 3: 4.11 ms per loop\n",
      "1050\n",
      "100 loops, best of 3: 4.18 ms per loop\n",
      "1060\n",
      "100 loops, best of 3: 4.35 ms per loop\n",
      "1070\n",
      "100 loops, best of 3: 4.24 ms per loop\n",
      "1080\n",
      "100 loops, best of 3: 4.32 ms per loop\n",
      "1090\n",
      "100 loops, best of 3: 4.45 ms per loop\n"
     ]
    }
   ],
   "source": [
    "## Benchmark\n",
    "\n",
    "sortfunction = lambda l: quick_sort(l)\n",
    "\n",
    "import random\n",
    "\n",
    "for length in range(910, 1100, 10):\n",
    "    print(length)\n",
    "    print('random')\n",
    "    l = [random.randrange(length) for _ in range(length)]\n",
    "    %timeit sortfunction(l)\n",
    "    #print('sorted')\n",
    "    #l = [v for v in range(length)]\n",
    "    #%timeit sortfunction(l)"
   ]
  },
  {
   "cell_type": "code",
   "execution_count": 125,
   "metadata": {
    "collapsed": false
   },
   "outputs": [
    {
     "name": "stdout",
     "output_type": "stream",
     "text": [
      "1 loop, best of 3: 8.71 s per loop\n"
     ]
    }
   ],
   "source": [
    "length = 1000**2\n",
    "l = [random.randrange(length) for _ in range(length)]\n",
    "%timeit sortfunction(l)"
   ]
  },
  {
   "cell_type": "code",
   "execution_count": 122,
   "metadata": {
    "collapsed": false
   },
   "outputs": [],
   "source": [
    "import itertools\n",
    "\n",
    "def quick_sort(iterator):\n",
    "    iterator = list(iterator)\n",
    "    #print(iterator)\n",
    "    if len(iterator) <= 1:\n",
    "        return iterator\n",
    "    length = len(iterator)\n",
    "    pivot = iterator[0]\n",
    "    #print(pivot)\n",
    "    i = 0\n",
    "    j = length - 1\n",
    "    while True:\n",
    "        #print('i', i, iterator[i])\n",
    "        #print('j', j, iterator[j])\n",
    "        while i < length and iterator[i] < pivot:\n",
    "            i += 1\n",
    "            #print('i', i, iterator[i])\n",
    "        while j >= 0 and pivot < iterator[j]:\n",
    "            j -= 1\n",
    "            #print('j', j, iterator[j])\n",
    "        if i >= j:\n",
    "            break\n",
    "        #print('rplc', i, j, pivot)\n",
    "        left = iterator[i]\n",
    "        right = iterator[j]\n",
    "        iterator[i] = right\n",
    "        iterator[j] = left\n",
    "        #print(iterator)\n",
    "        i += 1\n",
    "        j -= 1\n",
    "    #print(iterator, i, j)\n",
    "    return list(quick_sort(iterator[:min(i, j) + 1]) + quick_sort(iterator[min(i, j) + 1:]))"
   ]
  },
  {
   "cell_type": "code",
   "execution_count": 123,
   "metadata": {
    "collapsed": false
   },
   "outputs": [
    {
     "data": {
      "text/plain": [
       "[1, 2, 3, 5, 7, 7, 12, 14, 26]"
      ]
     },
     "execution_count": 123,
     "metadata": {},
     "output_type": "execute_result"
    }
   ],
   "source": [
    "quick_sort([1, 12, 5, 26, 7, 14, 3, 7, 2])"
   ]
  },
  {
   "cell_type": "code",
   "execution_count": 103,
   "metadata": {
    "collapsed": false
   },
   "outputs": [
    {
     "name": "stdout",
     "output_type": "stream",
     "text": [
      "[14, 26, 12]\n",
      "14\n",
      "i 0 14\n",
      "j 2 12\n",
      "rplc 0 2 14\n",
      "[12, 26, 14]\n",
      "i 1 26\n",
      "j 1 26\n",
      "j 0 12\n",
      "[12, 26, 14] 1 0\n",
      "[12]\n",
      "[26, 14]\n",
      "26\n",
      "i 0 26\n",
      "j 1 14\n",
      "rplc 0 1 26\n",
      "[14, 26]\n",
      "i 1 26\n",
      "j 0 14\n",
      "[14, 26] 1 0\n",
      "[14]\n",
      "[26]\n"
     ]
    },
    {
     "data": {
      "text/plain": [
       "[12, 14, 26]"
      ]
     },
     "execution_count": 103,
     "metadata": {},
     "output_type": "execute_result"
    }
   ],
   "source": [
    "quick_sort([14, 26, 12])"
   ]
  }
 ],
 "metadata": {
  "kernelspec": {
   "display_name": "Python 3",
   "language": "python",
   "name": "python3"
  },
  "language_info": {
   "codemirror_mode": {
    "name": "ipython",
    "version": 3
   },
   "file_extension": ".py",
   "mimetype": "text/x-python",
   "name": "python",
   "nbconvert_exporter": "python",
   "pygments_lexer": "ipython3",
   "version": "3.5.2"
  }
 },
 "nbformat": 4,
 "nbformat_minor": 2
}
