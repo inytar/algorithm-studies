{
 "cells": [
  {
   "cell_type": "markdown",
   "metadata": {},
   "source": [
    "# Trees\n",
    "\n",
    "- tree with preorder and postorder\n",
    "    with traversal\n",
    "- binary search tree\n",
    "- trie\n",
    "- heap *\n",
    "- interval tree\n",
    "- b-tree\n",
    "- red-black tree with removal\n",
    "\n"
   ]
  },
  {
   "cell_type": "markdown",
   "metadata": {},
   "source": [
    "# Heap\n",
    "\n",
    "## http://www.cs.cmu.edu/%7Eadamchik/15-121/lectures/Binary%20Heaps/heaps.html\n",
    "\n",
    "A heap is a complete binary tree. The highest (min heap) or lowest (max heap) priority value is always stored in the root. A heap is partialy ordered and has a height of O(log N) where N is the number of nodes.\n",
    "\n",
    "Going from an array to a heap for every object in index k:\n",
    "- left node is at 2\\*k\n",
    "- right node is at 2\\*k+1\n",
    "- parent is at k/2\n",
    "\n",
    "For example:\n",
    "```\n",
    "k: | 1 | 2 | 3 | 4 | 5 |\n",
    "v: | A | B | C | D | E |\n",
    "\n",
    "         A\n",
    "       /   \\\n",
    "      B     C\n",
    "    /   \\\n",
    "   D     E\n",
    "```\n",
    "\n",
    "A new value is always added to the end of the heap and is then swapt upwards till it is in the correct position. Worst case runtime for an insert is thus O(log n) as we need at most one swap per level.\n",
    "Deleting is done starting at the root, this value is replaced with the last element in the array and this is then percolated down.\n",
    "\n",
    "A heap sort is a way of sorting a list in O(n log n) -> implement this.\n",
    "\n",
    "## http://web.cecs.pdx.edu/~sheard/course/Cs163/Doc/FullvsComplete.html\n",
    "\n",
    "Binary tree (binary == 2) -> every node has max 2 children\n",
    "Complete vs full binary tree:\n",
    "- Full:\n",
    "    Except for the leafs every node always have two children. Formally 2^^(h+1) - 1 for tree with height h\n",
    "- Complete:\n",
    "    Every level of the tree (except the bottom) has to be completly filled. All nodes are as far left as possible. Formally tree: \n",
    "    a. is empty\n",
    "    b. left subtree is complete at h-1 and right is complete at h-2\n",
    "    c. left subtree is complete at h-1 and right is complete at h-1\n",
    "    \n",
    "## https://www.cs.auckland.ac.nz/software/AlgAnim/heaps.html\n",
    "\n",
    "Also a good read, more technical."
   ]
  },
  {
   "cell_type": "code",
   "execution_count": 128,
   "metadata": {
    "collapsed": false
   },
   "outputs": [],
   "source": [
    "# Heap and heap sort\n",
    "\n",
    "\n",
    "class Heap(object):\n",
    "    \n",
    "    def __init__(self, iterator, key=None):\n",
    "        \"\"\"Create a heap of iterator, defaults to a minHeap (smallest value at root).\"\"\"\n",
    "        self._heap = [None, ]\n",
    "        self.key = key\n",
    "        if self.key is None:\n",
    "            import operator\n",
    "            self.key = operator.lt\n",
    "        self._length = 0\n",
    "        for i in iterator:\n",
    "            self.insert(i)\n",
    "\n",
    "    def __iter__(self):\n",
    "        \"\"\"Return an ordered iterator.\"\"\"\n",
    "        for i in range(self._length):\n",
    "            yield self.pop()\n",
    "\n",
    "    @staticmethod\n",
    "    def _get_parent_index(index):\n",
    "        return (index) // 2\n",
    "    \n",
    "    @staticmethod\n",
    "    def _get_right_index(index):\n",
    "        return (index) * 2 + 1\n",
    "    \n",
    "    @staticmethod\n",
    "    def _get_left_index(index):\n",
    "        return (index) * 2\n",
    "    \n",
    "    def insert(self, item):\n",
    "        self._heap.append(item)\n",
    "        self._length += 1\n",
    "        self._swap_up(self._length)\n",
    "        \n",
    "    def pop(self):\n",
    "        value = self._heap[1]\n",
    "        try:\n",
    "            self._heap[1] = self._heap.pop()\n",
    "        except IndexError:\n",
    "            pass\n",
    "        else:\n",
    "            self._swap_down(1)\n",
    "        self._length -= 1\n",
    "        return value\n",
    "    \n",
    "    def _swap_down(self, index):\n",
    "        value = self._heap[index]\n",
    "        left_i = self._get_left_index(index)\n",
    "        try:\n",
    "            left = self._heap[left_i]\n",
    "        except IndexError:\n",
    "            # Last node in tree we are done.\n",
    "            return\n",
    "        right_i = self._get_right_index(index)\n",
    "        #print(left_i, right_i)\n",
    "        try:\n",
    "            right = self._heap[right_i]\n",
    "        except IndexError:\n",
    "            # Node does not have a right child, only use the left.\n",
    "            child = left\n",
    "            child_index = left_i\n",
    "            # for printing\n",
    "            right = None\n",
    "        else:\n",
    "            if self.key(left, right):\n",
    "                child = left\n",
    "                child_index = left_i\n",
    "            else:\n",
    "                child = right\n",
    "                child_index = right_i\n",
    "        if not self.key(value, child):\n",
    "            self._heap[child_index] = value\n",
    "            self._heap[index] = child\n",
    "            self._swap_down(child_index)\n",
    "\n",
    "    def _swap_up(self, index):\n",
    "        value = self._heap[index]\n",
    "        parent_index = self._get_parent_index(index)\n",
    "        parent = self._heap[parent_index]\n",
    "        if parent is not None and self.key(value,parent):\n",
    "            self._heap[parent_index] = value\n",
    "            self._heap[index] = parent\n",
    "            self._swap_up(parent_index)\n",
    "            \n",
    "    def __str__(self):\n",
    "        return self._heap[1:].__str__()\n",
    "    \n",
    "    def __repr__(self):\n",
    "        return self._heap.__str__()"
   ]
  },
  {
   "cell_type": "code",
   "execution_count": 129,
   "metadata": {
    "collapsed": false
   },
   "outputs": [
    {
     "name": "stdout",
     "output_type": "stream",
     "text": [
      "[15, 10, 8, 6, 5, 4, 4, 3]\n"
     ]
    },
    {
     "data": {
      "text/plain": [
       "[None]"
      ]
     },
     "execution_count": 129,
     "metadata": {},
     "output_type": "execute_result"
    }
   ],
   "source": [
    "import operator\n",
    "heap = Heap([6, 4, 5, 3, 8, 10, 15, 4], operator.gt)\n",
    "print(list(heap))\n",
    "heap"
   ]
  },
  {
   "cell_type": "code",
   "execution_count": 127,
   "metadata": {
    "collapsed": false
   },
   "outputs": [
    {
     "ename": "TypeError",
     "evalue": "unorderable types: int() < str()",
     "output_type": "error",
     "traceback": [
      "\u001b[0;31m---------------------------------------------------------------------------\u001b[0m",
      "\u001b[0;31mTypeError\u001b[0m                                 Traceback (most recent call last)",
      "\u001b[0;32m<ipython-input-127-42afdcdfb436>\u001b[0m in \u001b[0;36m<module>\u001b[0;34m()\u001b[0m\n\u001b[0;32m----> 1\u001b[0;31m \u001b[0mheap\u001b[0m \u001b[0;34m=\u001b[0m \u001b[0mHeap\u001b[0m\u001b[0;34m(\u001b[0m\u001b[0;34m[\u001b[0m\u001b[0;34m'f'\u001b[0m\u001b[0;34m,\u001b[0m \u001b[0;36m5\u001b[0m\u001b[0;34m]\u001b[0m\u001b[0;34m)\u001b[0m\u001b[0;34m\u001b[0m\u001b[0m\n\u001b[0m\u001b[1;32m      2\u001b[0m \u001b[0mprint\u001b[0m\u001b[0;34m(\u001b[0m\u001b[0mlist\u001b[0m\u001b[0;34m(\u001b[0m\u001b[0mheap\u001b[0m\u001b[0;34m)\u001b[0m\u001b[0;34m)\u001b[0m\u001b[0;34m\u001b[0m\u001b[0m\n",
      "\u001b[0;32m<ipython-input-124-0142172bea6a>\u001b[0m in \u001b[0;36m__init__\u001b[0;34m(self, iterator, key)\u001b[0m\n\u001b[1;32m     12\u001b[0m         \u001b[0mself\u001b[0m\u001b[0;34m.\u001b[0m\u001b[0m_length\u001b[0m \u001b[0;34m=\u001b[0m \u001b[0;36m0\u001b[0m\u001b[0;34m\u001b[0m\u001b[0m\n\u001b[1;32m     13\u001b[0m         \u001b[0;32mfor\u001b[0m \u001b[0mi\u001b[0m \u001b[0;32min\u001b[0m \u001b[0miterator\u001b[0m\u001b[0;34m:\u001b[0m\u001b[0;34m\u001b[0m\u001b[0m\n\u001b[0;32m---> 14\u001b[0;31m             \u001b[0mself\u001b[0m\u001b[0;34m.\u001b[0m\u001b[0minsert\u001b[0m\u001b[0;34m(\u001b[0m\u001b[0mi\u001b[0m\u001b[0;34m)\u001b[0m\u001b[0;34m\u001b[0m\u001b[0m\n\u001b[0m\u001b[1;32m     15\u001b[0m \u001b[0;34m\u001b[0m\u001b[0m\n\u001b[1;32m     16\u001b[0m     \u001b[0;32mdef\u001b[0m \u001b[0m__iter__\u001b[0m\u001b[0;34m(\u001b[0m\u001b[0mself\u001b[0m\u001b[0;34m)\u001b[0m\u001b[0;34m:\u001b[0m\u001b[0;34m\u001b[0m\u001b[0m\n",
      "\u001b[0;32m<ipython-input-124-0142172bea6a>\u001b[0m in \u001b[0;36minsert\u001b[0;34m(self, item)\u001b[0m\n\u001b[1;32m     33\u001b[0m         \u001b[0mself\u001b[0m\u001b[0;34m.\u001b[0m\u001b[0m_heap\u001b[0m\u001b[0;34m.\u001b[0m\u001b[0mappend\u001b[0m\u001b[0;34m(\u001b[0m\u001b[0mitem\u001b[0m\u001b[0;34m)\u001b[0m\u001b[0;34m\u001b[0m\u001b[0m\n\u001b[1;32m     34\u001b[0m         \u001b[0mself\u001b[0m\u001b[0;34m.\u001b[0m\u001b[0m_length\u001b[0m \u001b[0;34m+=\u001b[0m \u001b[0;36m1\u001b[0m\u001b[0;34m\u001b[0m\u001b[0m\n\u001b[0;32m---> 35\u001b[0;31m         \u001b[0mself\u001b[0m\u001b[0;34m.\u001b[0m\u001b[0m_swap_up\u001b[0m\u001b[0;34m(\u001b[0m\u001b[0mself\u001b[0m\u001b[0;34m.\u001b[0m\u001b[0m_length\u001b[0m\u001b[0;34m)\u001b[0m\u001b[0;34m\u001b[0m\u001b[0m\n\u001b[0m\u001b[1;32m     36\u001b[0m \u001b[0;34m\u001b[0m\u001b[0m\n\u001b[1;32m     37\u001b[0m     \u001b[0;32mdef\u001b[0m \u001b[0mpop\u001b[0m\u001b[0;34m(\u001b[0m\u001b[0mself\u001b[0m\u001b[0;34m)\u001b[0m\u001b[0;34m:\u001b[0m\u001b[0;34m\u001b[0m\u001b[0m\n",
      "\u001b[0;32m<ipython-input-124-0142172bea6a>\u001b[0m in \u001b[0;36m_swap_up\u001b[0;34m(self, index)\u001b[0m\n\u001b[1;32m     80\u001b[0m         \u001b[0mparent_index\u001b[0m \u001b[0;34m=\u001b[0m \u001b[0mself\u001b[0m\u001b[0;34m.\u001b[0m\u001b[0m_get_parent_index\u001b[0m\u001b[0;34m(\u001b[0m\u001b[0mindex\u001b[0m\u001b[0;34m)\u001b[0m\u001b[0;34m\u001b[0m\u001b[0m\n\u001b[1;32m     81\u001b[0m         \u001b[0mparent\u001b[0m \u001b[0;34m=\u001b[0m \u001b[0mself\u001b[0m\u001b[0;34m.\u001b[0m\u001b[0m_heap\u001b[0m\u001b[0;34m[\u001b[0m\u001b[0mparent_index\u001b[0m\u001b[0;34m]\u001b[0m\u001b[0;34m\u001b[0m\u001b[0m\n\u001b[0;32m---> 82\u001b[0;31m         \u001b[0;32mif\u001b[0m \u001b[0mparent\u001b[0m \u001b[0;32mis\u001b[0m \u001b[0;32mnot\u001b[0m \u001b[0;32mNone\u001b[0m \u001b[0;32mand\u001b[0m \u001b[0mself\u001b[0m\u001b[0;34m.\u001b[0m\u001b[0mkey\u001b[0m\u001b[0;34m(\u001b[0m\u001b[0mvalue\u001b[0m\u001b[0;34m,\u001b[0m\u001b[0mparent\u001b[0m\u001b[0;34m)\u001b[0m\u001b[0;34m:\u001b[0m\u001b[0;34m\u001b[0m\u001b[0m\n\u001b[0m\u001b[1;32m     83\u001b[0m             \u001b[0mself\u001b[0m\u001b[0;34m.\u001b[0m\u001b[0m_heap\u001b[0m\u001b[0;34m[\u001b[0m\u001b[0mparent_index\u001b[0m\u001b[0;34m]\u001b[0m \u001b[0;34m=\u001b[0m \u001b[0mvalue\u001b[0m\u001b[0;34m\u001b[0m\u001b[0m\n\u001b[1;32m     84\u001b[0m             \u001b[0mself\u001b[0m\u001b[0;34m.\u001b[0m\u001b[0m_heap\u001b[0m\u001b[0;34m[\u001b[0m\u001b[0mindex\u001b[0m\u001b[0;34m]\u001b[0m \u001b[0;34m=\u001b[0m \u001b[0mparent\u001b[0m\u001b[0;34m\u001b[0m\u001b[0m\n",
      "\u001b[0;31mTypeError\u001b[0m: unorderable types: int() < str()"
     ]
    }
   ],
   "source": [
    "heap = Heap(['f', 5])\n",
    "print(list(heap))"
   ]
  },
  {
   "cell_type": "code",
   "execution_count": 119,
   "metadata": {
    "collapsed": false
   },
   "outputs": [
    {
     "name": "stdout",
     "output_type": "stream",
     "text": [
      "[3, 4, 4, 5, 6, 8, 10, 15]\n"
     ]
    }
   ],
   "source": [
    "heap = Heap([6, 4, 5, 3, 8, 10, 15, 4])\n",
    "print(list(heap))\n"
   ]
  },
  {
   "cell_type": "code",
   "execution_count": 117,
   "metadata": {
    "collapsed": false
   },
   "outputs": [
    {
     "name": "stdout",
     "output_type": "stream",
     "text": [
      "[2, 3, 3, 5, 4, 10, 9]\n"
     ]
    }
   ],
   "source": [
    "heap = Heap([])\n",
    "heap.insert(3)\n",
    "heap.insert(2)\n",
    "heap.insert(10)\n",
    "heap.insert(5)\n",
    "heap.insert(4)\n",
    "heap.insert(9)\n",
    "heap.insert(3)\n",
    "print(heap)"
   ]
  }
 ],
 "metadata": {
  "kernelspec": {
   "display_name": "Python 3",
   "language": "python",
   "name": "python3"
  },
  "language_info": {
   "codemirror_mode": {
    "name": "ipython",
    "version": 3
   },
   "file_extension": ".py",
   "mimetype": "text/x-python",
   "name": "python",
   "nbconvert_exporter": "python",
   "pygments_lexer": "ipython3",
   "version": "3.5.2"
  }
 },
 "nbformat": 4,
 "nbformat_minor": 2
}
